{
 "cells": [
  {
   "cell_type": "markdown",
   "id": "53f3bf30-8de4-4270-9f9a-c1342ffdfc57",
   "metadata": {},
   "source": [
    "Q.1)What is multithreading in python? hy is it used? Name the module used to handle threads in python"
   ]
  },
  {
   "cell_type": "markdown",
   "id": "bba5f80a-4b58-42b7-b7bb-d36073604a65",
   "metadata": {},
   "source": [
    "ANS:Multithreading in Python refers to the technique of using multiple threads to perform tasks concurrently within a single process. Each thread represents a separate flow of control within the same process and shares the same memory space, allowing them to interact with each other more easily."
   ]
  },
  {
   "cell_type": "code",
   "execution_count": 1,
   "id": "8c524b50-0cf9-4e6c-be03-37d3b465fdcd",
   "metadata": {},
   "outputs": [
    {
     "name": "stdout",
     "output_type": "stream",
     "text": [
      "This is a worker thread.\n",
      "Main thread: The worker thread has finished.\n"
     ]
    }
   ],
   "source": [
    "import threading\n",
    "def worker_function():\n",
    "    print(\"This is a worker thread.\")\n",
    "\n",
    "if __name__ == \"__main__\":\n",
    "    thread = threading.Thread(target=worker_function)\n",
    "    thread.start()\n",
    "    thread.join()\n",
    "    print(\"Main thread: The worker thread has finished.\")\n"
   ]
  },
  {
   "cell_type": "markdown",
   "id": "d9358acf-2c61-4022-b9d9-f76a9abe2004",
   "metadata": {},
   "source": [
    "Q2) why threading module used? rite the use of the following functions"
   ]
  },
  {
   "cell_type": "markdown",
   "id": "4102fade-3d43-4e16-b1f2-2a12e7787563",
   "metadata": {},
   "source": [
    "ANS:threading.active_count():\n",
    "\n",
    "Use: The active_count() function returns the current number of Thread objects that are alive and have not yet terminated. It provides a count of how many threads are currently running in the program.\n",
    "\n",
    "threading.current_thread():\n",
    "\n",
    "Use: The current_thread() function returns the currently executing Thread object, allowing you to access and manipulate the properties of the current thread.\n",
    "\n",
    "threading.enumerate():\n",
    "\n",
    "Use: The enumerate() function returns a list of all currently alive Thread objects. It provides a way to inspect and manage all threads in the program, including the main thread.\n",
    "\n",
    "\n"
   ]
  },
  {
   "cell_type": "code",
   "execution_count": 2,
   "id": "ab375562-be7b-409c-b7e4-49d0599cf5f1",
   "metadata": {},
   "outputs": [
    {
     "name": "stdout",
     "output_type": "stream",
     "text": [
      "Active threads: 8\n",
      "Current thread name: MainThread\n",
      "Thread name: MainThread\n",
      "Thread name: IOPub\n",
      "Thread name: Heartbeat\n",
      "Thread name: Thread-3 (_watch_pipe_fd)\n",
      "Thread name: Thread-4 (_watch_pipe_fd)\n",
      "Thread name: Control\n",
      "Thread name: IPythonHistorySavingThread\n",
      "Thread name: Thread-2\n"
     ]
    }
   ],
   "source": [
    "import threading\n",
    "\n",
    "# Get the number of active threads\n",
    "num_active_threads = threading.active_count()\n",
    "print(f\"Active threads: {num_active_threads}\")\n",
    "\n",
    "import threading\n",
    "\n",
    "# Get the current thread\n",
    "current_thread = threading.current_thread()\n",
    "print(f\"Current thread name: {current_thread.name}\")\n",
    "\n",
    "\n",
    "import threading\n",
    "\n",
    "# Enumerate all threads\n",
    "all_threads = threading.enumerate()\n",
    "for thread in all_threads:\n",
    "    print(f\"Thread name: {thread.name}\")\n"
   ]
  },
  {
   "cell_type": "markdown",
   "id": "344681c4-dd53-4043-aaf3-6aa0d11e817c",
   "metadata": {},
   "source": [
    "3. Explain the following functions\n",
    "( run\n",
    " start\n",
    " join\n",
    "' isAlive)"
   ]
  },
  {
   "cell_type": "code",
   "execution_count": 12,
   "id": "1b1c406a-6658-43d7-839b-3d85d387b53a",
   "metadata": {},
   "outputs": [
    {
     "name": "stdout",
     "output_type": "stream",
     "text": [
      "Thread is running!\n",
      "Thread is Start!\n",
      "Worker thread is working.\n",
      "Main thread: Worker thread has finished.\n",
      "Thread is still running.\n"
     ]
    }
   ],
   "source": [
    " \"\"\"\n",
    "run():\n",
    "\n",
    "Use: The run() method is not typically called directly by the programmer. Instead, it is a method of the Thread class that defines the entry point for the thread's activity. When a thread is created, you can specify the target function using the target parameter. The run() method of the thread is automatically invoked when you call the start() method on the thread object.\n",
    "\"\"\"\n",
    "import threading\n",
    "def my_function():\n",
    "    print(\"Thread is running!\")\n",
    "thread = threading.Thread(target=my_function)\n",
    "thread.start()\n",
    "\"\"\"\n",
    "start():\n",
    "\n",
    "Use: The start() method is used to begin the execution of a thread. It creates a new thread of control and invokes the run() method of the thread, which executes the target function specified during thread creation. Starting a thread using start() is essential to run code concurrently in a separate thread.\n",
    "\"\"\"\n",
    "import threading\n",
    "\n",
    "def my_function():\n",
    "    print(\"Thread is Start!\")\n",
    "\n",
    "thread = threading.Thread(target=my_function)\n",
    "thread.start() \n",
    "\n",
    "\n",
    "\"\"\"\n",
    "join(timeout=None):\n",
    "\n",
    "Use: The join() method is used to wait for a thread to complete its execution. When you call join() on a thread, the calling thread (often the main thread) will block until the target thread finishes. You can specify an optional timeout parameter to limit the time the calling thread waits for the target thread to complete.\n",
    "\"\"\"\n",
    "import threading\n",
    "\n",
    "def worker_function():\n",
    "    print(\"Worker thread is working.\")\n",
    "\n",
    "thread = threading.Thread(target=worker_function)\n",
    "thread.start()  # Start the worker thread\n",
    "thread.join()   # Wait for the worker thread to finish before continuing\n",
    "print(\"Main thread: Worker thread has finished.\")\n",
    "\n",
    "\n",
    "\"\"\"\n",
    "is_alive():\n",
    "\n",
    "Use: The is_alive() method is used to check if a thread is currently active and running. It returns True if the thread is running, and False if it has terminated or has not started yet. This method is useful for checking the status of a thread before taking further actions.\n",
    "\"\"\"\n",
    "\n",
    "import threading\n",
    "import time\n",
    "\n",
    "def worker_function():\n",
    "    time.sleep(2)\n",
    "\n",
    "thread = threading.Thread(target=worker_function)\n",
    "thread.start()  # Start the worker thread\n",
    "\n",
    "if thread.is_alive():\n",
    "    print(\"Thread is still running.\")\n",
    "else:\n",
    "    print(\"Thread has finished.\")\n",
    "\n"
   ]
  },
  {
   "cell_type": "markdown",
   "id": "5ba75d1e-835a-49cc-b073-3f17850acc81",
   "metadata": {},
   "source": [
    "4. Write a python program to create two threads. Thread one must print the list of squares and thread\n",
    "two must print the list of cubes"
   ]
  },
  {
   "cell_type": "code",
   "execution_count": 13,
   "id": "cedc4c58-ec51-41ea-8bb7-28e7b50762de",
   "metadata": {},
   "outputs": [
    {
     "name": "stdout",
     "output_type": "stream",
     "text": [
      "Square of 1: 1\n",
      "Square of 2: 4\n",
      "Square of 3: 9\n",
      "Square of 4: 16\n",
      "Square of 5: 25\n",
      "Cube of 1: 1\n",
      "Cube of 2: 8\n",
      "Cube of 3: 27\n",
      "Cube of 4: 64\n",
      "Cube of 5: 125\n",
      "Both threads have finished.\n"
     ]
    }
   ],
   "source": [
    "import threading\n",
    "def print_squares():\n",
    "    for i in range(1, 6):\n",
    "        print(f\"Square of {i}: {i ** 2}\")\n",
    "def print_cubes():\n",
    "    for i in range(1, 6):\n",
    "        print(f\"Cube of {i}: {i ** 3}\")\n",
    "\n",
    "if __name__ == \"__main__\":\n",
    "    thread_squares = threading.Thread(target=print_squares)\n",
    "    thread_cubes = threading.Thread(target=print_cubes)\n",
    "    thread_squares.start()\n",
    "    thread_cubes.start()\n",
    "    thread_squares.join()\n",
    "    thread_cubes.join()\n",
    "\n",
    "    print(\"Both threads have finished.\")\n"
   ]
  },
  {
   "cell_type": "markdown",
   "id": "fb031eec-690b-4e35-b6a7-ec8b260bb372",
   "metadata": {},
   "source": [
    "5. State advantages and disadvantages of multithreading"
   ]
  },
  {
   "cell_type": "markdown",
   "id": "43a0fc61-9346-4c88-9535-6fda139459c6",
   "metadata": {},
   "source": [
    "ANS:Advantages:\n",
    "\n",
    "Improved performance: Multithreading can help increase the overall performance of an application, especially on systems with multiple processors or cores. It allows multiple tasks to run concurrently, utilizing the available CPU resources more efficiently.\n",
    "Responsiveness: In a single-threaded environment, if a long-running task blocks the main thread, the entire application becomes unresponsive. Multithreading can prevent this issue by running such tasks in separate threads, ensuring the application remains responsive.\n",
    "Better resource utilization: Multithreading allows better utilization of system resources by keeping the CPU busy while waiting for I/O operations or other tasks to complete.\n",
    "Simplified modeling: Some problems can be more naturally modeled using multiple threads. This makes the program easier to design, understand, and maintain.\n",
    "Parallelism: Multithreading enables parallelism, which can lead to significant performance improvements in applications that can be divided into smaller, independent tasks.\n",
    "\n",
    "Disadvantages:\n",
    "\n",
    "Complexity: Multithreading adds complexity to the program, making it more difficult to design, implement, and debug. Developers need to be aware of synchronization, deadlocks, race conditions, and other concurrency-related issues.\n",
    "Synchronization overhead: To avoid data corruption and maintain consistency, developers must synchronize access to shared resources, which can result in additional overhead and reduced performance.\n",
    "Context switching: Context switching between threads consumes CPU time and resources, which can lead to performance degradation if not managed efficiently.\n",
    "Hard to predict behavior: Due to the concurrent nature of multithreading, the behavior of the program can be hard to predict and reproduce, especially when it comes to debugging.\n",
    "Limited by hardware: The performance benefits of multithreading are limited by the number of available cores or processors in the system. In some cases, excessive use of threads can lead to performance degradation instead of improvement."
   ]
  },
  {
   "cell_type": "markdown",
   "id": "7cf0212e-e7b8-4cff-aca7-c7cc7ab990f0",
   "metadata": {},
   "source": [
    "6. Explain deadlocks and race conditions."
   ]
  },
  {
   "cell_type": "markdown",
   "id": "c3bbc243-86c5-4140-bfcd-a18dd1c288b1",
   "metadata": {},
   "source": [
    "Deadlocks in Python:\n",
    "\n",
    "Deadlocks in Python occur when two or more threads or processes become stuck in a situation where they're waiting for each other to release resources, and as a result, none of them can make progress. The conditions for a deadlock are generally the same in Python as in any other language:\n",
    "\n",
    "Mutual Exclusion: At least one resource must be held in a non-shareable mode. In Python, this can be represented by a lock or mutex acquired using threading.Lock() or multiprocessing.Lock().\n",
    "\n",
    "Hold and Wait: A thread holds one resource while waiting to acquire another, creating a circular dependency.\n",
    "\n",
    "No Preemption: Resources cannot be forcibly taken away from a thread or process. They can only be released voluntarily.\n",
    "\n",
    "Circular Wait: A circular chain of threads exists, where each is waiting for a resource held by the next one in the chain."
   ]
  },
  {
   "cell_type": "code",
   "execution_count": 15,
   "id": "dd505705-13e5-4da4-bef4-9fdfc820078b",
   "metadata": {},
   "outputs": [
    {
     "name": "stderr",
     "output_type": "stream",
     "text": [
      "Exception in thread Thread-22 (thread1):\n",
      "Traceback (most recent call last):\n",
      "  File \"/opt/conda/lib/python3.10/threading.py\", line 1016, in _bootstrap_inner\n",
      "Exception in thread Thread-23 (thread2):\n",
      "Traceback (most recent call last):\n",
      "  File \"/opt/conda/lib/python3.10/threading.py\", line 1016, in _bootstrap_inner\n",
      "    self.run()\n",
      "  File \"/opt/conda/lib/python3.10/threading.py\", line 953, in run\n",
      "    self.run()\n",
      "  File \"/opt/conda/lib/python3.10/threading.py\", line 953, in run\n",
      "    self._target(*self._args, **self._kwargs)\n",
      "  File \"/tmp/ipykernel_911/2228536199.py\", line 7, in thread1\n",
      "    self._target(*self._args, **self._kwargs)\n",
      "  File \"/tmp/ipykernel_911/2228536199.py\", line 14, in thread2\n",
      "AttributeError: module 'threading' has no attribute 'sleep'\n",
      "AttributeError: module 'threading' has no attribute 'sleep'\n"
     ]
    },
    {
     "name": "stdout",
     "output_type": "stream",
     "text": [
      "Thread 1: Acquired lock1\n",
      "Thread 2: Acquired lock2\n"
     ]
    }
   ],
   "source": [
    "import threading\n",
    "lock1 = threading.Lock()\n",
    "lock2 = threading.Lock()\n",
    "def thread1():\n",
    "    with lock1:\n",
    "        print(\"Thread 1: Acquired lock1\")\n",
    "        threading.sleep(1)\n",
    "        print(\"Thread 1: Waiting for lock2\")\n",
    "        with lock2:\n",
    "            print(\"Thread 1: Acquired lock2\")\n",
    "def thread2():\n",
    "    with lock2:\n",
    "        print(\"Thread 2: Acquired lock2\")\n",
    "        threading.sleep(1)\n",
    "        print(\"Thread 2: Waiting for lock1\")\n",
    "        with lock1:\n",
    "            print(\"Thread 2: Acquired lock1\")\n",
    "t1 = threading.Thread(target=thread1)\n",
    "t2 = threading.Thread(target=thread2)\n",
    "\n",
    "t1.start()\n",
    "t2.start()\n",
    "\n",
    "t1.join()\n",
    "t2.join()\n"
   ]
  },
  {
   "cell_type": "markdown",
   "id": "79acb9ad-582c-4b56-a934-25d340887efb",
   "metadata": {},
   "source": [
    "Race Conditions in Python:\n",
    "\n",
    "Race conditions in Python occur when multiple threads or processes access shared data or resources concurrently without proper synchronization. Python's Global Interpreter Lock (GIL) can sometimes mask certain race conditions in pure Python code, but they can still occur in multi-threaded environments, especially when interacting with external resources or using Python extensions that release the GIL."
   ]
  },
  {
   "cell_type": "code",
   "execution_count": 16,
   "id": "ff16bf5e-75d0-4035-b866-d4a93b192c8a",
   "metadata": {},
   "outputs": [
    {
     "name": "stdout",
     "output_type": "stream",
     "text": [
      "Final counter value: 2000000\n"
     ]
    }
   ],
   "source": [
    "import threading\n",
    "\n",
    "shared_counter = 0\n",
    "\n",
    "def increment_counter():\n",
    "    global shared_counter\n",
    "    for _ in range(1000000):\n",
    "        shared_counter += 1\n",
    "\n",
    "thread1 = threading.Thread(target=increment_counter)\n",
    "thread2 = threading.Thread(target=increment_counter)\n",
    "\n",
    "thread1.start()\n",
    "thread2.start()\n",
    "\n",
    "thread1.join()\n",
    "thread2.join()\n",
    "\n",
    "print(\"Final counter value:\", shared_counter)\n"
   ]
  },
  {
   "cell_type": "code",
   "execution_count": null,
   "id": "fa087daf-7caf-42dc-a9b2-5e8ab29b33de",
   "metadata": {},
   "outputs": [],
   "source": []
  }
 ],
 "metadata": {
  "kernelspec": {
   "display_name": "Python 3 (ipykernel)",
   "language": "python",
   "name": "python3"
  },
  "language_info": {
   "codemirror_mode": {
    "name": "ipython",
    "version": 3
   },
   "file_extension": ".py",
   "mimetype": "text/x-python",
   "name": "python",
   "nbconvert_exporter": "python",
   "pygments_lexer": "ipython3",
   "version": "3.10.8"
  }
 },
 "nbformat": 4,
 "nbformat_minor": 5
}
