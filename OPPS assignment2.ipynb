{
 "cells": [
  {
   "cell_type": "markdown",
   "id": "c22f7a36-8575-4bd6-bb41-bc55807567ec",
   "metadata": {},
   "source": [
    "Q1, Create a vehicle class with an init method having instance variables as name_of_vehicle, max_speed\n",
    "and average_of_vehicle."
   ]
  },
  {
   "cell_type": "code",
   "execution_count": 3,
   "id": "372b139f-2add-4fdb-bac5-a5513cba7325",
   "metadata": {},
   "outputs": [
    {
     "name": "stdout",
     "output_type": "stream",
     "text": [
      "Name of Vehicle: Car\n",
      "Max Speed: 200 km/h\n",
      "Average Mileage: 30 mpg\n"
     ]
    }
   ],
   "source": [
    "#code\n",
    "class Vehicle:\n",
    "    def __init__(self, name_of_vehicle, max_speed, average_of_vehicle):\n",
    "        self.name_of_vehicle = name_of_vehicle\n",
    "        self.max_speed = max_speed\n",
    "        self.average_of_vehicle = average_of_vehicle\n",
    "\n",
    "car = Vehicle(\"Car\", 200, 30)\n",
    "print(\"Name of Vehicle:\", car.name_of_vehicle)\n",
    "print(\"Max Speed:\", car.max_speed, \"km/h\")\n",
    "print(\"Average Mileage:\", car.average_of_vehicle, \"mpg\")\n"
   ]
  },
  {
   "cell_type": "markdown",
   "id": "10bfbb81-7c00-4786-ae95-8b4e9789b248",
   "metadata": {},
   "source": [
    "Q2. Create a child class car from the vehicle class created in Que 1, which will inherit the vehicle class.\n",
    "Create a method named seating_capacity which takes capacity as an argument and returns the name of\n",
    "the vehicle and its seating capacity."
   ]
  },
  {
   "cell_type": "code",
   "execution_count": 4,
   "id": "1f07110e-6a6c-4fce-91a5-631771d155e7",
   "metadata": {},
   "outputs": [
    {
     "name": "stdout",
     "output_type": "stream",
     "text": [
      "Name of Vehicle: Car\n",
      "Max Speed: 200 km/h\n",
      "Average Mileage: 30 mpg\n",
      "Car has a seating capacity of 5 passengers.\n"
     ]
    }
   ],
   "source": [
    "#code\n",
    "class Vehicle:\n",
    "    def __init__(self, name_of_vehicle, max_speed, average_of_vehicle):\n",
    "        self.name_of_vehicle = name_of_vehicle\n",
    "        self.max_speed = max_speed\n",
    "        self.average_of_vehicle = average_of_vehicle\n",
    "\n",
    "class Car(Vehicle):\n",
    "    def seating_capacity(self, capacity):\n",
    "        return f\"{self.name_of_vehicle} has a seating capacity of {capacity} passengers.\"\n",
    "\n",
    "car = Car(\"Car\", 200, 30)\n",
    "\n",
    "print(\"Name of Vehicle:\", car.name_of_vehicle)\n",
    "print(\"Max Speed:\", car.max_speed, \"km/h\")\n",
    "print(\"Average Mileage:\", car.average_of_vehicle, \"mpg\")\n",
    "\n",
    "\n",
    "print(car.seating_capacity(5))\n"
   ]
  },
  {
   "cell_type": "markdown",
   "id": "4cd7c7cd-3e50-4320-bbde-15b0ed5bcbb6",
   "metadata": {},
   "source": [
    "Q3. What is multiple inheritance? Write a python code to demonstrate multiple inheritance."
   ]
  },
  {
   "cell_type": "markdown",
   "id": "5dd934bd-e679-40f8-81f1-4d0ef3701d81",
   "metadata": {},
   "source": [
    "ANS:Multiple inheritance is a feature in object-oriented programming where a class can inherit attributes and methods from more than one parent class (superclass). This means that a subclass can have multiple parent classes, and it inherits properties and behaviors from all of them."
   ]
  },
  {
   "cell_type": "code",
   "execution_count": 5,
   "id": "027bb07e-9a30-43f0-8cfb-9564d48c9171",
   "metadata": {},
   "outputs": [
    {
     "name": "stdout",
     "output_type": "stream",
     "text": [
      "Alice speaks.\n",
      "Alice makes a sound like a Mammal.\n"
     ]
    }
   ],
   "source": [
    "#code\n",
    "\n",
    "class Person:\n",
    "    def __init__(self, name):\n",
    "        self.name = name\n",
    "\n",
    "    def speak(self):\n",
    "        print(f\"{self.name} speaks.\")\n",
    "\n",
    "\n",
    "class Animal:\n",
    "    def __init__(self, species):\n",
    "        self.species = species\n",
    "\n",
    "    def make_sound(self):\n",
    "        pass\n",
    "\n",
    "class Human(Person, Animal):\n",
    "    def __init__(self, name, species):\n",
    "        \n",
    "        Person.__init__(self, name)\n",
    "        Animal.__init__(self, species)\n",
    "\n",
    "    def make_sound(self):\n",
    "        print(f\"{self.name} makes a sound like a {self.species}.\")\n",
    "\n",
    "human = Human(\"Alice\", \"Mammal\")\n",
    "\n",
    "human.speak()       \n",
    "human.make_sound()   \n"
   ]
  },
  {
   "cell_type": "markdown",
   "id": "76b4f435-ac08-4d4a-bd34-ec967ba93cba",
   "metadata": {},
   "source": [
    "Q4. What are getter and setter in python? Create a class and create a getter and a setter method in this\n",
    "class."
   ]
  },
  {
   "cell_type": "markdown",
   "id": "bdc65fae-ee21-4ed8-9bb3-34378fef5a4b",
   "metadata": {},
   "source": [
    "ANS:In Python, getter and setter methods are used to control access to the attributes (instance variables) of a class. They allow you to encapsulate the attribute access, providing controlled and validated ways to get and set the attribute values.\n",
    "\n",
    "A getter method (also known as an accessor method) is used to retrieve the value of an attribute.\n",
    "A setter method (also known as a mutator method) is used to set the value of an attribute while optionally performing validation checks."
   ]
  },
  {
   "cell_type": "code",
   "execution_count": 6,
   "id": "f29fb7a4-1dd3-4a33-993f-5779cf59cdfa",
   "metadata": {},
   "outputs": [
    {
     "name": "stdout",
     "output_type": "stream",
     "text": [
      "21\n",
      "21\n"
     ]
    }
   ],
   "source": [
    "#code\n",
    "\n",
    "\n",
    "class Person:\n",
    "\tdef __init__(self, age = 0):\n",
    "\t\tself._age = age\n",
    "\n",
    "\tdef get_age(self):\n",
    "\t\treturn self._age\n",
    "\n",
    "\tdef set_age(self, x):\n",
    "\t\tself._age = x\n",
    "\n",
    "raj = Person()\n",
    "\n",
    "raj.set_age(21)\n",
    "\n",
    "print(raj.get_age())\n",
    "\n",
    "print(raj._age)\n"
   ]
  },
  {
   "cell_type": "markdown",
   "id": "2ebc8153-7d96-47b5-97e2-e07f1448695c",
   "metadata": {},
   "source": [
    "Q5.What is method overriding in python? Write a python code to demonstrate method overriding."
   ]
  },
  {
   "cell_type": "markdown",
   "id": "73a99e4b-215f-4883-a053-d25a420c7052",
   "metadata": {},
   "source": [
    "ANS:Method overriding in Python is a feature of object-oriented programming (OOP) that allows a subclass to provide a specific implementation for a method that is already defined in its superclass. When a method is overridden in the subclass, the version of the method in the subclass is called instead of the one in the superclass when the method is invoked on objects of the subclass."
   ]
  },
  {
   "cell_type": "code",
   "execution_count": null,
   "id": "0fff1b4a-0cdf-46e3-8586-c31a18d8a49c",
   "metadata": {},
   "outputs": [],
   "source": []
  }
 ],
 "metadata": {
  "kernelspec": {
   "display_name": "Python 3 (ipykernel)",
   "language": "python",
   "name": "python3"
  },
  "language_info": {
   "codemirror_mode": {
    "name": "ipython",
    "version": 3
   },
   "file_extension": ".py",
   "mimetype": "text/x-python",
   "name": "python",
   "nbconvert_exporter": "python",
   "pygments_lexer": "ipython3",
   "version": "3.10.8"
  }
 },
 "nbformat": 4,
 "nbformat_minor": 5
}
