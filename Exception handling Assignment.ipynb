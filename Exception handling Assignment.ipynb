{
 "cells": [
  {
   "cell_type": "markdown",
   "id": "0b0d9f9b-8d17-4a59-afd1-3dc74267d0fb",
   "metadata": {},
   "source": [
    "Q.1 ANS:An exception in Python is an abnormal event or error that occurs during the execution of a program, disrupting the normal flow of the program. Exceptions are used to handle runtime errors and exceptional conditions gracefully. Python provides a built-in mechanism for handling exceptions through the use of try-except blocks.\n",
    "\n",
    "Here are the key differences between exceptions and syntax errors in Python:\n",
    "\n",
    "Exceptions:\n",
    "\n",
    "Exceptions occur during the runtime (execution) of a program.\n",
    "They are raised when an error or an exceptional condition is encountered during program execution.\n",
    "Examples of exceptions include ZeroDivisionError, ValueError, IndexError, and custom exceptions you can define.\n",
    "Exceptions can be handled using try-except blocks to gracefully handle errors and prevent program termination.\n",
    "\n",
    "Syntax Errors:\n",
    "\n",
    "Syntax errors occur during the parsing (compilation) of a program before it starts executing.\n",
    "They are caused by violations of the Python language syntax rules, such as missing colons, invalid indentation, or incorrect use of keywords.\n",
    "Syntax errors prevent the program from running altogether and must be fixed before execution.\n",
    "\n"
   ]
  },
  {
   "cell_type": "code",
   "execution_count": 1,
   "id": "c2c0831f-a4e4-4a0f-b4b6-5ce3917f6f32",
   "metadata": {},
   "outputs": [
    {
     "name": "stdout",
     "output_type": "stream",
     "text": [
      "Error: division by zero\n"
     ]
    }
   ],
   "source": [
    "#code\n",
    "try:\n",
    "    result = 10 / 0  # Raises a ZeroDivisionError\n",
    "except ZeroDivisionError as e:\n",
    "    print(f\"Error: {e}\")\n"
   ]
  },
  {
   "cell_type": "code",
   "execution_count": null,
   "id": "07fbb7b8-daf8-43aa-b13b-822a5d724038",
   "metadata": {},
   "outputs": [],
   "source": [
    "#code\n",
    "if x > 10  # Missing colon\n",
    "    print(\"x is greater than 10\")\n"
   ]
  },
  {
   "cell_type": "markdown",
   "id": "0aeac04f-dbf7-4773-9481-a9cb1fce0f7f",
   "metadata": {},
   "source": [
    "Q.2 ANS:When an exception is not handled in a Python program, it leads to what is called an unhandled exception or an uncaught exception. When an unhandled exception occurs, the program's normal execution is halted, and Python displays an error message traceback indicating the type of exception that occurred, where it occurred in the code, and the call stack."
   ]
  },
  {
   "cell_type": "code",
   "execution_count": null,
   "id": "464bf7f9-614b-4957-9df8-d68157775562",
   "metadata": {},
   "outputs": [],
   "source": [
    "#code\n",
    "def divide(a, b):\n",
    "    result = a / b\n",
    "    return result\n",
    "\n",
    "result = divide(10, 0)\n",
    "print(result) \n",
    "\"\"\"\n",
    "We define a function divide(a, b) that calculates the result of dividing a by b.\n",
    "We then call this function with arguments 10 and 0, which would result in a division by zero error (ZeroDivisionError) because it's not allowed in mathematics.\n",
    "Since we haven't used a try-except block to handle this exception, the program execution is abruptly stopped when the exception is raised.\n",
    "\n",
    "Python will display an error message traceback, indicating that a ZeroDivisionError occurred at a specific line in the code (in this case, the result = divide(10, 0) line), and it will show the call stack, which traces the sequence of function calls that led to the exception.\n",
    "\"\"\""
   ]
  },
  {
   "cell_type": "markdown",
   "id": "d4658118-dbf6-4cf5-a11a-2aa47fcdaf77",
   "metadata": {},
   "source": [
    "Q.3 ANS: try: The try statement is used to enclose a block of code where you anticipate that an exception might occur. It is followed by one or more except clauses.\n",
    "\n",
    "except: The except clause is used to specify how to handle a specific exception that might be raised within the try block. You can have multiple except clauses to handle different types of exceptions.\n",
    "\n",
    "else: The else block is executed if no exceptions are raised within the try block. It allows you to specify code that should run when no exceptions occur.\n",
    "\n",
    "finally: The finally block is optional and is used to specify code that will always execute, whether or not an exception is raised. It is often used for cleanup operations."
   ]
  },
  {
   "cell_type": "code",
   "execution_count": null,
   "id": "53170ae1-eb2d-4f97-9920-09a11e8eb15e",
   "metadata": {},
   "outputs": [],
   "source": [
    "#code\n",
    "def divide(a, b):\n",
    "    try:\n",
    "        result = a / b  # Attempt division\n",
    "    except ZeroDivisionError:\n",
    "        print(\"Error: Division by zero is not allowed.\")\n",
    "    except ValueError:\n",
    "        print(\"Error: Invalid input value.\")\n",
    "    else:\n",
    "        print(f\"Result: {result}\")\n",
    "    finally:\n",
    "        print(\"Execution completed.\")\n",
    "\n",
    "divide(10, 0)\n",
    "\n",
    "divide(10, \"invalid\")\n",
    "\n",
    "divide(10, 2)\n"
   ]
  },
  {
   "cell_type": "markdown",
   "id": "4871ced3-7340-4714-a980-4c1bf7b4131b",
   "metadata": {},
   "source": [
    "Q.4 ANS:We define a divide function that attempts division between two numbers a and b.\n",
    "\n",
    "Inside the try block, we perform the division a / b.\n",
    "\n",
    "In the first example (divide(10, 0)), we pass 0 as the value of b, which would result in a division by zero exception (ZeroDivisionError).\n",
    "\n",
    "The except ZeroDivisionError block is executed, and it prints an error message.\n",
    "\n",
    "The finally block is always executed, and it prints \"Execution completed.\"\n",
    "\n",
    "In the second example (divide(10, 2)), we pass a valid value for b, and no exceptions occur.\n",
    "\n",
    "The else block is executed because no exceptions were raised, and it displays the result of the division.\n",
    "\n",
    "Again, the finally block is always executed and prints \"Execution completed.\"\n",
    "\n",
    "The try block is used to enclose code that might raise exceptions, the except block handles specific exceptions if they occur, the else block is executed when no exceptions occur, and the finally block is always executed, providing a place for cleanup code. This combination ensures that your code handles exceptions gracefully and performs necessary cleanup, regardless of whether exceptions are raised or not.\n",
    "\n",
    "\n",
    "\n",
    "\n",
    "\n"
   ]
  },
  {
   "cell_type": "code",
   "execution_count": 5,
   "id": "4bc768ea-688d-4c0d-8080-86e258fba454",
   "metadata": {},
   "outputs": [
    {
     "name": "stdout",
     "output_type": "stream",
     "text": [
      "Error: Division by zero is not allowed.\n",
      "Execution completed.\n",
      "Result: 5.0\n",
      "Execution completed.\n"
     ]
    }
   ],
   "source": [
    "#code\n",
    "def divide(a, b):\n",
    "    try:\n",
    "        result = a / b  # Attempt division\n",
    "    except ZeroDivisionError:\n",
    "        print(\"Error: Division by zero is not allowed.\")\n",
    "    else:\n",
    "        print(f\"Result: {result}\")\n",
    "    finally:\n",
    "        print(\"Execution completed.\")\n",
    "\n",
    "divide(10, 0)\n",
    "\n",
    "divide(10, 2)\n"
   ]
  },
  {
   "cell_type": "markdown",
   "id": "23aec074-c05e-47a3-bd29-ceeec1058cc5",
   "metadata": {},
   "source": [
    "Q.5 ANS:Custom exceptions in Python are user-defined exception classes that inherit from Python's built-in Exception class or one of its subclasses. These custom exception classes allow you to define your own application-specific exceptions to handle exceptional situations or errors that cannot be adequately represented by the standard built-in exceptions.\n",
    "\n",
    "You may need custom exceptions in Python for the following reasons:\n",
    "\n",
    "Clarity and Specificity: Custom exceptions provide more specific and descriptive error messages, making it easier to understand and debug issues in your code. They can convey the nature of the error more clearly than generic built-in exceptions.\n",
    "\n",
    "Modularity and Reusability: By defining custom exceptions, you can encapsulate error handling logic for specific situations in a reusable and modular manner. This promotes clean and maintainable code.\n",
    "\n",
    "Hierarchy of Exceptions: Custom exceptions can be organized into a hierarchy, allowing you to handle exceptions at different levels of granularity. For example, you can have a base custom exception and several specialized exceptions that inherit from it."
   ]
  },
  {
   "cell_type": "code",
   "execution_count": 6,
   "id": "0e90a410-29b1-4a10-9037-c4eff7f2ac09",
   "metadata": {},
   "outputs": [
    {
     "name": "stdout",
     "output_type": "stream",
     "text": [
      "Error: Insufficient funds. Balance: 100, Attempted withdrawal: 200\n"
     ]
    }
   ],
   "source": [
    "#code\n",
    "class InsufficientFundsError(Exception):\n",
    "    def __init__(self, balance, amount):\n",
    "        self.balance = balance\n",
    "        self.amount = amount\n",
    "        super().__init__(f\"Insufficient funds. Balance: {balance}, Attempted withdrawal: {amount}\")\n",
    "\n",
    "def withdraw(balance, amount):\n",
    "    if amount > balance:\n",
    "        raise InsufficientFundsError(balance, amount)\n",
    "    else:\n",
    "        print(\"Withdrawal successful.\")\n",
    "\n",
    "try:\n",
    "    withdraw(100, 200)  \n",
    "except InsufficientFundsError as e:\n",
    "    print(f\"Error: {e}\")\n"
   ]
  },
  {
   "cell_type": "code",
   "execution_count": null,
   "id": "616f40b3-a3be-42ca-a552-4a8f27796e17",
   "metadata": {},
   "outputs": [],
   "source": [
    "Q.6 ANS:"
   ]
  },
  {
   "cell_type": "code",
   "execution_count": null,
   "id": "49d6c574-3fd1-41f0-bddf-c257d0c37638",
   "metadata": {},
   "outputs": [],
   "source": []
  }
 ],
 "metadata": {
  "kernelspec": {
   "display_name": "Python 3 (ipykernel)",
   "language": "python",
   "name": "python3"
  },
  "language_info": {
   "codemirror_mode": {
    "name": "ipython",
    "version": 3
   },
   "file_extension": ".py",
   "mimetype": "text/x-python",
   "name": "python",
   "nbconvert_exporter": "python",
   "pygments_lexer": "ipython3",
   "version": "3.10.8"
  }
 },
 "nbformat": 4,
 "nbformat_minor": 5
}
