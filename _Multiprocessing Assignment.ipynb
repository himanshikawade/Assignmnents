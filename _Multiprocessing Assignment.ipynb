{
 "cells": [
  {
   "cell_type": "markdown",
   "id": "eaadbedb-c4e3-4bf8-a4c0-ebb1511dbae9",
   "metadata": {},
   "source": [
    "Q1. What is multiprocessing in python? Why is it useful?"
   ]
  },
  {
   "cell_type": "markdown",
   "id": "724283d9-d59f-4d89-93dc-e5b90fba3b1f",
   "metadata": {},
   "source": [
    "ANS: Multiprocessing in Python refers to the technique of using multiple processes to perform tasks concurrently or in parallel. Python's multiprocessing module allows you to create and manage multiple processes, each of which runs independently and can execute its own code. This is in contrast to multithreading, where multiple threads share the same memory space and can access the same data, which can lead to complex synchronization and race condition issues.\n",
    "Improved Performance: By running tasks in parallel processes, you can take advantage of multi-core processors and significantly improve the performance of CPU-bound tasks. This can lead to faster execution times for tasks that can be divided into parallel subtasks.\n",
    "\n",
    "Isolation: Each process runs in its own separate memory space, which provides isolation between processes. This isolation makes it easier to write concurrent code without worrying about shared memory issues and race conditions.\n",
    "\n",
    "Fault Tolerance: If one process crashes due to an error, it typically does not affect other processes. This enhances the robustness of your applications since a crash in one part of the program won't necessarily bring down the entire application.\n",
    "\n",
    "Utilizing Multiple Cores: Modern computers often have multiple CPU cores. Multiprocessing allows you to utilize these cores effectively, distributing the workload across them to achieve better performance.\n",
    "\n",
    "Parallelism: Multiprocessing is particularly useful for tasks that can be divided into smaller, independent subtasks that can be executed in parallel. For example, tasks like data processing, scientific computing, and simulations can benefit greatly from multiprocessing."
   ]
  },
  {
   "cell_type": "code",
   "execution_count": 1,
   "id": "e2fc1725-19d4-4bc4-a862-30d8b7bda235",
   "metadata": {},
   "outputs": [
    {
     "name": "stdout",
     "output_type": "stream",
     "text": [
      "Worker 0: 0\n",
      "Worker 1: 2\n",
      "Worker 2: 4\n",
      "Worker 3: 6\n"
     ]
    }
   ],
   "source": [
    "#code\n",
    "import multiprocessing\n",
    "\n",
    "def worker_function(number):\n",
    "    result = number * 2\n",
    "    print(f\"Worker {number}: {result}\")\n",
    "\n",
    "if __name__ == \"__main__\":\n",
    "    num_processes = 4\n",
    "    processes = []\n",
    "\n",
    "    for i in range(num_processes):\n",
    "        process = multiprocessing.Process(target=worker_function, args=(i,))\n",
    "        processes.append(process)\n",
    "        process.start()\n",
    "\n",
    "    for process in processes:\n",
    "        process.join()\n"
   ]
  },
  {
   "cell_type": "markdown",
   "id": "5514e580-14b4-4025-861c-008ad116baac",
   "metadata": {},
   "source": [
    "Q2. What are the differences between multiprocessing and multithreading?"
   ]
  },
  {
   "cell_type": "markdown",
   "id": "990c0d48-9502-4b04-a6d2-e6e38205bf75",
   "metadata": {},
   "source": [
    "ANS:  A multiprocessing system has more than two processors whereas Multithreading is a program execution technique that allows a single process to have multiple code segments\n",
    "Multiprocessing improves the reliability of the system while in the multithreading process, each thread runs parallel to each other.\n",
    "Multiprocessing helps you to increase computing power whereas multithreading helps you create computing threads of a single process\n",
    "In Multiprocessing, the creation of a process, is slow and resource-specific whereas, in Multiprogramming, the creation of a thread is economical in time and resource.\n",
    "Multithreading avoids pickling, whereas Multiprocessing relies on pickling objects in memory to send to other processes.\n",
    "Multiprocessing system takes less time whereas for job processing a moderate amount of time is taken."
   ]
  },
  {
   "cell_type": "markdown",
   "id": "581e505b-6eb6-4830-92b7-60c5ad0f253f",
   "metadata": {},
   "source": [
    "Q3. Write a python code to create a process using the multiprocessing module."
   ]
  },
  {
   "cell_type": "code",
   "execution_count": 3,
   "id": "bd01a39d-fa36-4c35-bb05-75494dbc253c",
   "metadata": {},
   "outputs": [
    {
     "name": "stdout",
     "output_type": "stream",
     "text": [
      "This is a worker process.\n",
      "Main process: The worker process has finished.\n"
     ]
    }
   ],
   "source": [
    "import multiprocessing\n",
    "\n",
    "def worker_function():\n",
    "    print(\"This is a worker process.\")\n",
    "\n",
    "if __name__ == \"__main__\":\n",
    "    process = multiprocessing.Process(target=worker_function)\n",
    "    process.start()\n",
    "    process.join()\n",
    "    print(\"Main process: The worker process has finished.\")\n"
   ]
  },
  {
   "cell_type": "markdown",
   "id": "7cea7226-7b0b-42ff-bbdc-5f05c255a6f3",
   "metadata": {},
   "source": [
    "Q4. What is a multiprocessing pool in python? Why is it used?"
   ]
  },
  {
   "cell_type": "markdown",
   "id": "03c30497-f5a7-41b6-aedf-91ae26028118",
   "metadata": {},
   "source": [
    "ANS:A multiprocessing pool in Python is a mechanism provided by the multiprocessing module to manage and distribute the execution of tasks across multiple processes in a pool or group. The primary purpose of a multiprocessing pool is to simplify the process of parallelizing and distributing tasks across multiple CPU cores or processes, especially when you need to perform the same task multiple times with different input values.\n",
    "\n",
    "Here are the key characteristics and reasons for using a multiprocessing pool:\n",
    "\n",
    "Task Parallelism: Multiprocessing pools are used when you have a set of tasks that can be executed in parallel independently. Each task is submitted to the pool, and the pool automatically assigns them to available processes for execution.\n",
    "\n",
    "Load Balancing: A pool manages the allocation of tasks to available processes, ensuring that each process is kept busy with work. This load balancing helps make efficient use of available CPU cores.\n",
    "\n",
    "Simplified Code: Using a pool simplifies the code for parallelism. You don't have to manually create and manage individual processes, handle process synchronization, or manage communication between processes. The pool abstracts these complexities.\n",
    "\n",
    "Worker Function: You define a worker function that performs a single task, and the pool takes care of invoking this function with different inputs in parallel."
   ]
  },
  {
   "cell_type": "code",
   "execution_count": 4,
   "id": "3809c5ae-c12e-4ba1-b702-5400a81ccd91",
   "metadata": {},
   "outputs": [
    {
     "name": "stdout",
     "output_type": "stream",
     "text": [
      "Results: [2, 4, 6, 8, 10]\n"
     ]
    }
   ],
   "source": [
    "import multiprocessing\n",
    "\n",
    "def process_data(data):\n",
    "    result = data * 2\n",
    "    return result\n",
    "\n",
    "if __name__ == \"__main__\":\n",
    "\n",
    "    pool = multiprocessing.Pool(processes=4)\n",
    "    data_list = [1, 2, 3, 4, 5]\n",
    "    results = pool.map(process_data, data_list)\n",
    "    pool.close()\n",
    "    pool.join()\n",
    "    print(\"Results:\", results)\n"
   ]
  },
  {
   "cell_type": "markdown",
   "id": "6c8dc56a-d669-4fb2-8aaa-a3a61d588500",
   "metadata": {},
   "source": [
    "Q5. How can we create a pool of worker processes in python using the multiprocessing module?"
   ]
  },
  {
   "cell_type": "code",
   "execution_count": 5,
   "id": "31a37621-71c4-4f04-9ce6-aadb0c634c34",
   "metadata": {},
   "outputs": [
    {
     "name": "stdout",
     "output_type": "stream",
     "text": [
      "hello bob\n"
     ]
    }
   ],
   "source": [
    "from multiprocessing import Process\n",
    "\n",
    "def f(name):\n",
    "    print('hello', name)\n",
    "\n",
    "if __name__ == '__main__':\n",
    "    p = Process(target=f, args=('bob',))\n",
    "    p.start()\n",
    "    p.join()"
   ]
  },
  {
   "cell_type": "code",
   "execution_count": null,
   "id": "5d1576bc-5323-4d43-bb0b-98732041e1b9",
   "metadata": {},
   "outputs": [],
   "source": []
  }
 ],
 "metadata": {
  "kernelspec": {
   "display_name": "Python 3 (ipykernel)",
   "language": "python",
   "name": "python3"
  },
  "language_info": {
   "codemirror_mode": {
    "name": "ipython",
    "version": 3
   },
   "file_extension": ".py",
   "mimetype": "text/x-python",
   "name": "python",
   "nbconvert_exporter": "python",
   "pygments_lexer": "ipython3",
   "version": "3.10.8"
  }
 },
 "nbformat": 4,
 "nbformat_minor": 5
}
