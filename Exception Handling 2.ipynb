{
 "cells": [
  {
   "cell_type": "markdown",
   "id": "6abf2f99-dddf-4ad7-af34-a8581909376b",
   "metadata": {},
   "source": [
    "Q1. Explain why we have to use the Exception class while creating a Custom Exception."
   ]
  },
  {
   "cell_type": "markdown",
   "id": "b2abe0f0-748f-44cc-bd83-9d333c64c924",
   "metadata": {},
   "source": [
    "ANS: Exception class or one of its subclasses. Here's why you should use the Exception class as the base class for custom exceptions:\n",
    "\n",
    "Consistency: By inheriting from Exception or its subclasses, you ensure that your custom exception class follows the same conventions and interfaces as the standard exceptions in Python. This makes it consistent with the built-in exceptions, which makes it easier for others to understand and use your custom exception.\n",
    "\n",
    "Compatibility: Most exception handling mechanisms in Python are designed to work with exceptions that are subclasses of Exception. When you raise a custom exception that is derived from Exception, you can use it seamlessly with try-except blocks and other error-handling constructs.\n",
    "\n",
    "Clarity: Inheriting from Exception or a relevant subclass provides a clear and well-defined structure for your custom exception. It makes your code more readable and understandable for others who may encounter your exception in the future.\n",
    "\n",
    "Best Practice: It is a best practice in Python to use the built-in exception classes as base classes for custom exceptions. This practice is recommended in the Python documentation and widely followed in the Python community."
   ]
  },
  {
   "cell_type": "code",
   "execution_count": 1,
   "id": "ea5363e2-8e3d-4521-be73-436010af23a2",
   "metadata": {},
   "outputs": [
    {
     "name": "stdout",
     "output_type": "stream",
     "text": [
      "Custom exception caught: This is a custom exception.\n"
     ]
    }
   ],
   "source": [
    "#code\n",
    "class CustomError(Exception):\n",
    "    def __init__(self, message):\n",
    "        super().__init__(message)\n",
    "\n",
    "try:\n",
    "    raise CustomError(\"This is a custom exception.\")\n",
    "except CustomError as e:\n",
    "    print(f\"Custom exception caught: {e}\")\n"
   ]
  },
  {
   "cell_type": "markdown",
   "id": "34be9deb-9242-4f3b-a8af-a91970658088",
   "metadata": {},
   "source": [
    "Q2. Write a python program to print Python Exception Hierarchy."
   ]
  },
  {
   "cell_type": "markdown",
   "id": "4d3a00a1-d91f-4336-b1ec-de82436952be",
   "metadata": {},
   "source": [
    "ANS:We import the traceback module, which provides functions for working with exceptions and stack traces.\n",
    "\n",
    "We define a function print_exception_hierarchy().\n",
    "\n",
    "Inside the function, we raise a custom exception CustomError to demonstrate the exception hierarchy.\n",
    "\n",
    "We catch the exception using an except block with Exception as the base class, which allows us to access the exception hierarchy.\n",
    "\n",
    "We print the exception hierarchy starting from the most specific exception type (CustomError) to the more general exception types (e.g., Exception, BaseException, and object) using a while loop that iterates through the base classes of the exception.\n",
    "\n",
    "We define the CustomError class as a custom exception that we raise and catch in the program."
   ]
  },
  {
   "cell_type": "code",
   "execution_count": 2,
   "id": "e2d27f67-74f5-44b4-bdab-4367052683f8",
   "metadata": {},
   "outputs": [
    {
     "name": "stdout",
     "output_type": "stream",
     "text": [
      "Python Exception Hierarchy:\n",
      "CustomError\n",
      "Exception\n",
      "BaseException\n",
      "object\n"
     ]
    }
   ],
   "source": [
    "#code\n",
    "import traceback\n",
    "\n",
    "def print_exception_hierarchy():\n",
    "    try:\n",
    "        # Raise a custom exception\n",
    "        raise CustomError(\"Custom exception raised.\")\n",
    "    except Exception as e:\n",
    "        print(\"Python Exception Hierarchy:\")\n",
    "        exc_type = type(e)\n",
    "        while exc_type is not None:\n",
    "            print(exc_type.__name__)\n",
    "            exc_type = exc_type.__base__\n",
    "\n",
    "class CustomError(Exception):\n",
    "    pass\n",
    "\n",
    "print_exception_hierarchy()\n"
   ]
  },
  {
   "cell_type": "markdown",
   "id": "58f35c97-4e35-490f-af4a-23283bb55a97",
   "metadata": {},
   "source": [
    "Q3. What errors are defined in the ArithmeticError class? Explain any two with an example."
   ]
  },
  {
   "cell_type": "markdown",
   "id": "293a3955-3de9-4eae-b4c6-853400016e03",
   "metadata": {},
   "source": [
    "ANS:The ArithmeticError class is a built-in Python exception class that serves as the base class for exceptions related to arithmetic operations. It represents errors that can occur during mathematical calculations. Two commonly encountered exceptions derived from ArithmeticError are ZeroDivisionError and OverflowError. Let's explain these two exceptions with examples:\n",
    "\n",
    "ZeroDivisionError:\n",
    "\n",
    "ZeroDivisionError is raised when an attempt is made to divide a number by zero, which is mathematically undefined.\n",
    "This error occurs when the denominator in a division operation is zero."
   ]
  },
  {
   "cell_type": "code",
   "execution_count": 3,
   "id": "15e28df9-3569-47bf-aab1-2b120f8823fa",
   "metadata": {},
   "outputs": [
    {
     "name": "stdout",
     "output_type": "stream",
     "text": [
      "Error: division by zero\n"
     ]
    }
   ],
   "source": [
    "#code\n",
    "dividend = 10\n",
    "divisor = 0\n",
    "\n",
    "try:\n",
    "    result = dividend / divisor  # Attempt division by zero\n",
    "except ZeroDivisionError as e:\n",
    "    print(f\"Error: {e}\")\n"
   ]
  },
  {
   "cell_type": "code",
   "execution_count": 5,
   "id": "df78516c-d870-45b1-852b-eb29e09b0250",
   "metadata": {},
   "outputs": [],
   "source": [
    "\"\"\"\n",
    "OverflowError:\n",
    "\n",
    "OverflowError is raised when an arithmetic operation exceeds the limit of representable values for a numeric type.\n",
    "This error occurs when a result is too large to be represented by the data type.\n",
    "\n",
    "\"\"\"\n",
    "#code\n",
    "import sys\n",
    "\n",
    "try:\n",
    "    result = sys.maxsize + 1  # Attempt to exceed the maximum representable value\n",
    "except OverflowError as e:\n",
    "    print(f\"Error: {e}\")"
   ]
  },
  {
   "cell_type": "markdown",
   "id": "1b190ccc-0a80-40e4-aa1d-c987b75c210a",
   "metadata": {},
   "source": [
    "Q4. Why LookupError class is used? Explain with an example KeyError and IndexError."
   ]
  },
  {
   "cell_type": "markdown",
   "id": "405dc24c-0e72-429d-bb35-705fdf3b7446",
   "metadata": {},
   "source": [
    "ANS:The LookupError class in Python serves as the base class for exceptions related to lookup or indexing operations. It is a common base class for exceptions that occur when attempting to access elements in a sequence or a mapping (e.g., lists, dictionaries) and the requested element is not found or the index is out of range. Two commonly encountered exceptions derived from LookupError are KeyError and IndexError. Let's explain these two exceptions with examples:\n",
    "\n",
    "KeyError:\n",
    "\n",
    "KeyError is raised when an attempt is made to access a dictionary element using a key that does not exist in the dictionary.\n",
    "This error occurs when trying to retrieve a value associated with a non-existent key.\n",
    "\n",
    "IndexError:\n",
    "\n",
    "IndexError is raised when an attempt is made to access an element in a sequence (e.g., list, tuple) using an index that is out of range.\n",
    "This error occurs when trying to access an element at an index that does not exist.\n"
   ]
  },
  {
   "cell_type": "code",
   "execution_count": 7,
   "id": "c9be8f23-4953-4146-ac80-4b0385f398d2",
   "metadata": {},
   "outputs": [
    {
     "name": "stdout",
     "output_type": "stream",
     "text": [
      "Error: 'address'\n",
      "Error: list index out of range\n"
     ]
    }
   ],
   "source": [
    "#code\n",
    "my_dict = {'name': 'Alice', 'age': 30}\n",
    "\n",
    "try:\n",
    "    value = my_dict['address']  # Attempt to access a non-existent key\n",
    "except KeyError as e:\n",
    "    print(f\"Error: {e}\")\n",
    "    \n",
    "    \n",
    "#code\n",
    "my_list = [1, 2, 3]\n",
    "\n",
    "try:\n",
    "    element = my_list[5]  # Attempt to access an out-of-range index\n",
    "except IndexError as e:\n",
    "    print(f\"Error: {e}\")\n",
    "\n"
   ]
  },
  {
   "cell_type": "markdown",
   "id": "7ebf2b73-5214-4d7c-9f81-dd4f98acb48e",
   "metadata": {},
   "source": [
    "Q5. Explain ImportError. What is ModuleNotFoundError?"
   ]
  },
  {
   "cell_type": "markdown",
   "id": "426c529c-94ec-46d3-89f0-543fd99e6186",
   "metadata": {},
   "source": [
    "ANS:ImportError is a built-in Python exception that is raised when there is an error related to importing a module or a symbol (function, variable, or class) from a module. It indicates that Python encountered a problem while trying to import a module, and it can occur for various reasons.\n",
    "\n",
    "One common cause of an ImportError is when Python cannot find the module you are trying to import. In such cases, you may encounter a ModuleNotFoundError, which is a subclass of ImportError. Starting from Python 3.3, Python introduced ModuleNotFoundError to provide more specific information about failed module imports.\n",
    "\n",
    "Here's a brief explanation of ImportError and ModuleNotFoundError:\n",
    "\n",
    "ImportError:\n",
    "\n",
    "ImportError is a broad exception that can be raised for various reasons related to module imports.\n",
    "It can occur if the module you are trying to import does not exist, has an incorrect name, or cannot be found in the Python search path.\n",
    "Other reasons for ImportError can include circular imports, syntax errors within the module, or issues related to dynamic imports.\n",
    "\n",
    "\n",
    "ModuleNotFoundError:\n",
    "\n",
    "ModuleNotFoundError is a more specific exception that is raised when Python is unable to locate the module being imported.\n",
    "It was introduced to provide clearer and more informative error messages for module import failures.\n",
    "ModuleNotFoundError inherits from ImportError"
   ]
  },
  {
   "cell_type": "code",
   "execution_count": 9,
   "id": "dc9da662-b9e5-4672-97e0-b410e902b8d0",
   "metadata": {},
   "outputs": [
    {
     "name": "stdout",
     "output_type": "stream",
     "text": [
      "ImportError: No module named 'non_existent_module'\n",
      "ModuleNotFoundError: No module named 'non_existent_module'\n"
     ]
    }
   ],
   "source": [
    "#code\n",
    "try:\n",
    "    import non_existent_module  # Attempt to import a non-existent module\n",
    "except ImportError as e:\n",
    "    print(f\"ImportError: {e}\")\n",
    "    \n",
    "#code\n",
    "try:\n",
    "    import non_existent_module  # Attempt to import a non-existent module\n",
    "except ModuleNotFoundError as e:\n",
    "    print(f\"ModuleNotFoundError: {e}\")\n",
    "\n"
   ]
  },
  {
   "cell_type": "markdown",
   "id": "6ff5080c-542b-472a-bf09-e9eb3ab3a012",
   "metadata": {},
   "source": [
    "Q6. List down some best practices for exception handling in python."
   ]
  },
  {
   "cell_type": "markdown",
   "id": "5cca96af-e870-44ba-b034-d59fa28959cf",
   "metadata": {},
   "source": [
    "ANS:Use Specific Exception Types:\n",
    "\n",
    "Catch and handle specific exception types rather than using broad exceptions like Exception or BaseException.\n",
    "This allows you to handle different error scenarios appropriately and provides more precise error messages.\n",
    "Avoid Bare except Clauses:\n",
    "\n",
    "Avoid using except: without specifying the exception type. It can catch unexpected errors and make debugging difficult.\n",
    "Instead, use except SomeException: to catch specific exceptions.\n",
    "Use try-except Blocks Sparingly:\n",
    "\n",
    "Use try-except blocks only around code that may raise exceptions, not for the entire program.\n",
    "Minimize the scope of the try block to narrow down the potential sources of exceptions.\n",
    "Handle Exceptions Gracefully:\n",
    "\n",
    "Handle exceptions gracefully by providing informative error messages and taking appropriate action (e.g., logging the error, notifying the user).\n",
    "Avoid simply ignoring exceptions or printing generic error messages.\n",
    "Use finally for Cleanup:\n",
    "\n",
    "Use the finally block for cleanup code that must run regardless of whether an exception occurred.\n",
    "It's useful for resource management, such as closing files or network connections.\n",
    "Avoid Returning Error Codes:\n",
    "\n",
    "Instead of returning error codes, raise exceptions to signal errors. This makes error handling more explicit and less error-prone.\n",
    "Keep Exception Flow Linear:\n",
    "\n",
    "Avoid using exceptions for control flow. Exceptions should represent exceptional circumstances, not normal program flow.\n",
    "Use conditional statements for expected logic.\n",
    "Use Context Managers:\n",
    "\n",
    "Use context managers (with statements) to automatically manage resources like files and database connections.\n",
    "Context managers ensure that resources are properly acquired and released.\n",
    "Log Exceptions:\n",
    "\n",
    "Use a logging framework (e.g., Python's logging module) to log exceptions. This aids in debugging and monitoring applications.\n",
    "Avoid Silent Failures:\n",
    "\n",
    "Ensure that exceptions are not silently swallowed. Let errors surface and be handled appropriately.\n",
    "Create Custom Exceptions:\n",
    "\n",
    "Define custom exception classes when necessary to represent application-specific errors and provide more context in error messages.\n",
    "Test Exception Handling:\n",
    "                         \n",
    "Document Exception Handling:\n",
    "\n",
    "Document the exceptions that functions or methods may raise in their docstrings.\n",
    "Describe the conditions under which each exception is raised and how it should be handled.\n",
    "Follow Python's Exception Hierarchy:\n",
    "\n",
    "Be aware of Python's exception hierarchy and use built-in exception classes when they match the type of error you're handling.\n",
    "Use else with try-except Blocks (if appropriate):\n",
    "\n",
    "The else block in a try-except structure can be used to specify code that should run if no exceptions occur.\n",
    "Avoid Nested try-except Blocks:\n",
    "\n",
    "Nesting try-except blocks can make code hard to read and understand. Refactor and simplify your code when possible.                       "
   ]
  },
  {
   "cell_type": "code",
   "execution_count": null,
   "id": "5b492f50-96db-4a2e-abb4-35b84868e8fe",
   "metadata": {},
   "outputs": [],
   "source": []
  }
 ],
 "metadata": {
  "kernelspec": {
   "display_name": "Python 3 (ipykernel)",
   "language": "python",
   "name": "python3"
  },
  "language_info": {
   "codemirror_mode": {
    "name": "ipython",
    "version": 3
   },
   "file_extension": ".py",
   "mimetype": "text/x-python",
   "name": "python",
   "nbconvert_exporter": "python",
   "pygments_lexer": "ipython3",
   "version": "3.10.8"
  }
 },
 "nbformat": 4,
 "nbformat_minor": 5
}
