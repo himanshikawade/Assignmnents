{
 "cells": [
  {
   "cell_type": "markdown",
   "id": "ea5c063f-98a7-469c-9a92-f8df27a2d589",
   "metadata": {},
   "source": [
    "Q.1 Explain Class and Object with respect to Object-Oriented Programming. Give a suitable example."
   ]
  },
  {
   "cell_type": "markdown",
   "id": "eedbc535-72c0-4392-a10e-16115d9f4c4a",
   "metadata": {},
   "source": [
    "ANS:In object-oriented programming (OOP), a class is a blueprint or template for creating objects, while an object is an instance of a class. Classes define the structure and behavior of objects, and objects are concrete instances of those classes that can hold data (attributes) and perform actions (methods)."
   ]
  },
  {
   "cell_type": "code",
   "execution_count": 3,
   "id": "344c285a-5089-4284-854a-85946f4d45ca",
   "metadata": {},
   "outputs": [
    {
     "data": {
      "text/plain": [
       "<__main__.himu at 0x7f45970a1390>"
      ]
     },
     "execution_count": 3,
     "metadata": {},
     "output_type": "execute_result"
    }
   ],
   "source": [
    "#code\n",
    "class himu():\n",
    "    def __init__(self,name,phone,city):\n",
    "        self.name=name\n",
    "        self.phone=phone\n",
    "        self.city=city\n",
    "    def ab(self):\n",
    "         return self.name,self.phone,self.city\n",
    "    \n",
    "obj=himu(\"lokesh\",90874628487,\"Nagpur\")\n",
    "obj\n",
    "    "
   ]
  },
  {
   "cell_type": "markdown",
   "id": "81e47fbc-ffd5-470a-b890-d6bfc00a62d7",
   "metadata": {},
   "source": [
    "Q.2 Name the four pillars of OOPs."
   ]
  },
  {
   "cell_type": "markdown",
   "id": "0cd8a35f-7d62-4bd8-9814-9b7dc3205e5c",
   "metadata": {},
   "source": [
    "ANS: The four pillars of object-oriented programming (OOP) are:\n",
    "\n",
    "1 Encapsulation:Encapsulation is the principle of bundling data (attributes) and methods (functions) that operate on that data into a single unit called a class. It restricts direct access to some of an object's components, providing control over the data's integrity and preventing unintended interference.\n",
    "\n",
    "2 Abstraction:Abstraction is the process of simplifying complex reality by modeling classes based on the essential properties and behaviors of objects while ignoring the non-essential details. It allows you to focus on what an object does rather than how it does it.\n",
    "\n",
    "3 Inheritance: Inheritance is a mechanism that allows one class (called a subclass or derived class) to inherit the attributes and methods of another class (called a superclass or base class). It promotes code reuse and the creation of a hierarchy of classes, where subclasses can inherit and extend the functionality of their parent classes.\n",
    "\n",
    "4.Polymorphism: Polymorphism allows objects of different classes to be treated as objects of a common superclass. It enables a single interface to represent different types of objects and allows functions or methods to work with objects of different classes in a consistent way. Polymorphism is often achieved through method overriding and interfaces/abstract classes.\n",
    "\n",
    "These four pillars form the foundation of object-oriented programming and are essential for creating modular, maintainable, and extensible code."
   ]
  },
  {
   "cell_type": "markdown",
   "id": "0b1ba058-f187-4c52-97b3-8fe8d1f67c0b",
   "metadata": {},
   "source": [
    "Q3. Explain why the __init__() function is used. Give a suitable example."
   ]
  },
  {
   "cell_type": "markdown",
   "id": "8bccead3-0abf-4780-a3b6-4a1cd476115d",
   "metadata": {},
   "source": [
    "ANS:n Python, the __init__() function is a special method also known as the constructor method. It is used to initialize the attributes (data members) of an object when an instance of a class is created. The __init__() method is automatically called when you create an object from a class, and it allows you to set initial values for the object's attributes."
   ]
  },
  {
   "cell_type": "code",
   "execution_count": 4,
   "id": "812d1df4-17fc-4da6-978e-508b840f2e3a",
   "metadata": {},
   "outputs": [
    {
     "name": "stdout",
     "output_type": "stream",
     "text": [
      "My name is himanshi and I am 19 years old\n"
     ]
    }
   ],
   "source": [
    "#code\n",
    "class person:\n",
    "    def __init__(self,name,age):\n",
    "        self.name=name\n",
    "        self.age=age\n",
    "    def say(self):\n",
    "        print(f\"My name is {self.name} and I am {self.age} years old\")\n",
    "        \n",
    "obj=person(\"himanshi\",19)\n",
    "obj.say()\n"
   ]
  },
  {
   "cell_type": "markdown",
   "id": "46b6f520-514b-4a86-bc65-3418c7eeda79",
   "metadata": {},
   "source": [
    "Q4. Why self is used in OOPs?"
   ]
  },
  {
   "cell_type": "markdown",
   "id": "1e86a523-5e9f-4200-b6ec-a97f578aa4f5",
   "metadata": {},
   "source": [
    "ANS:In object-oriented programming (OOP), self is a convention used in many programming languages, including Python, to refer to the instance of a class within the class itself. It is a reference to the current object being operated on. The use of self serves several important purposes:\n",
    "\n",
    "Instance Attribute Access: self is used to access and manipulate instance attributes (also known as instance variables). These attributes hold data that is unique to each instance of the class. By using self, you can distinguish between instance variables and local variables within the class methods.\n",
    "\n",
    "Method Access: self is used to access and call other methods defined within the class. It allows methods to interact with the object's attributes and other methods in a coherent way.\n",
    "\n",
    "Instance-specific Behavior: self allows each instance of a class to have its own unique state. When a method is called on an object, it operates on that specific object's data, ensuring that different instances do not interfere with each other.\n",
    "\n"
   ]
  },
  {
   "cell_type": "code",
   "execution_count": 5,
   "id": "40b948a6-3d16-45dd-9130-e6537fe80a8b",
   "metadata": {},
   "outputs": [
    {
     "name": "stdout",
     "output_type": "stream",
     "text": [
      "Blacklie barks!\n"
     ]
    }
   ],
   "source": [
    "#code\n",
    "class Dog:\n",
    "    def __init__(self, name, age):\n",
    "        self.name = name\n",
    "        self.age = age\n",
    "\n",
    "    def bark(self):\n",
    "        print(f\"{self.name} barks!\")\n",
    "obj = Dog(\"Blacklie\", 3)\n",
    "obj.bark() \n",
    "\n"
   ]
  },
  {
   "cell_type": "raw",
   "id": "f62deba5-286d-4d6e-a575-eac58320f702",
   "metadata": {},
   "source": [
    "Q5. What is inheritance? Give an example for each type of inheritance."
   ]
  },
  {
   "cell_type": "markdown",
   "id": "6ec6e13b-90b6-4049-8491-c2237539c8b9",
   "metadata": {},
   "source": [
    "ANS:nheritance is one of the four fundamental concepts of object-oriented programming (OOP). It allows you to create a new class (called a subclass or derived class) that inherits attributes and methods from an existing class (called a superclass or base class). Inheritance promotes code reuse and the creation of a hierarchy of classes, where subclasses can inherit and extend the functionality of their parent classes.\n",
    "\n",
    "There are several types of inheritance in Python:\n",
    "\n",
    "Single Inheritance: In single inheritance, a subclass inherits from only one superclass. This is the simplest form of inheritance.\n",
    "Multiple Inheritance: In multiple inheritance, a subclass inherits from more than one superclass. Python supports multiple inheritance, allowing a class to inherit attributes and methods from multiple parent classes.\n",
    "Multilevel Inheritance: In multilevel inheritance, a class is derived from a subclass, creating a chain of inheritance.\n",
    "Hierarchical Inheritance: In hierarchical inheritance, multiple subclasses inherit from a single superclass.\n",
    "\n"
   ]
  },
  {
   "cell_type": "code",
   "execution_count": 9,
   "id": "149eedd9-191b-488f-9f6e-87f01d99b54a",
   "metadata": {},
   "outputs": [
    {
     "name": "stdout",
     "output_type": "stream",
     "text": [
      "Woof!\n"
     ]
    }
   ],
   "source": [
    "#code\n",
    "class Animal:\n",
    "    def speak(self):\n",
    "        pass\n",
    "\n",
    "class Dog(Animal):\n",
    "    def speak(self):\n",
    "        return \"Woof!\"\n",
    "\n",
    "dog = Dog()\n",
    "print(dog.speak()) \n"
   ]
  },
  {
   "cell_type": "code",
   "execution_count": null,
   "id": "a09f36bf-41d3-4e40-94bb-1c395627d15d",
   "metadata": {},
   "outputs": [],
   "source": []
  }
 ],
 "metadata": {
  "kernelspec": {
   "display_name": "Python 3 (ipykernel)",
   "language": "python",
   "name": "python3"
  },
  "language_info": {
   "codemirror_mode": {
    "name": "ipython",
    "version": 3
   },
   "file_extension": ".py",
   "mimetype": "text/x-python",
   "name": "python",
   "nbconvert_exporter": "python",
   "pygments_lexer": "ipython3",
   "version": "3.10.8"
  }
 },
 "nbformat": 4,
 "nbformat_minor": 5
}
